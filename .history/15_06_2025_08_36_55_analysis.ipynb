{
 "cells": [
  {
   "cell_type": "code",
   "execution_count": null,
   "id": "f18d0574-ad29-40b7-806d-71db17a39b40",
   "metadata": {},
   "outputs": [],
   "source": [
    "library(tidyverse)"
   ]
  },
  {
   "cell_type": "code",
   "execution_count": null,
   "id": "b1d74a8f-f295-45ac-809b-d7351523c891",
   "metadata": {},
   "outputs": [],
   "source": [
    "players <- read_csv(\"data/players.csv\")\n",
    "players"
   ]
  },
  {
   "cell_type": "code",
   "execution_count": null,
   "id": "e7dd15fa-b3a7-44a8-ac90-6ea7496db552",
   "metadata": {},
   "outputs": [],
   "source": [
    "players_clean <- players |>\n",
    "mutate(gender = if_else(gender %in% c(\"Female\", \"Male\"), gender, \"Other\")) |>\n",
    "filter(!is.na(played_hours), played_hours >= 0)\n",
    "players_clean"
   ]
  },
  {
   "cell_type": "code",
   "execution_count": null,
   "id": "c8b82f69-ff20-40a8-be62-432ed8ff6683",
   "metadata": {},
   "outputs": [],
   "source": [
    "players_split <- initial_split(players, prop = 0.70, strata = gender)\n",
    "players_train <- training(players_split)\n",
    "players_test <- testing(players_split)"
   ]
  }
 ],
 "metadata": {
  "kernelspec": {
   "display_name": "R",
   "language": "R",
   "name": "ir"
  },
  "language_info": {
   "codemirror_mode": "r",
   "file_extension": ".r",
   "mimetype": "text/x-r-source",
   "name": "R",
   "pygments_lexer": "r",
   "version": "4.3.3"
  }
 },
 "nbformat": 4,
 "nbformat_minor": 5
}
